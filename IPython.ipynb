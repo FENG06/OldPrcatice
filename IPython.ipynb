{
 "cells": [
  {
   "cell_type": "code",
   "execution_count": 2,
   "metadata": {
    "collapsed": true
   },
   "outputs": [],
   "source": [
    "a = 5"
   ]
  },
  {
   "cell_type": "code",
   "execution_count": 3,
   "metadata": {},
   "outputs": [
    {
     "data": {
      "text/plain": [
       "5"
      ]
     },
     "execution_count": 3,
     "metadata": {},
     "output_type": "execute_result"
    }
   ],
   "source": [
    "a"
   ]
  },
  {
   "cell_type": "code",
   "execution_count": 4,
   "metadata": {
    "collapsed": true
   },
   "outputs": [],
   "source": [
    "import numpy as np\n",
    "from numpy.random import randn\n",
    "data = {i : randn() for i in range(7)}"
   ]
  },
  {
   "cell_type": "code",
   "execution_count": 5,
   "metadata": {},
   "outputs": [
    {
     "data": {
      "text/plain": [
       "{0: -0.4170126270674378,\n",
       " 1: 0.37905113590695655,\n",
       " 2: -0.3293174078062873,\n",
       " 3: 1.0037729783202525,\n",
       " 4: 1.4589926089912062,\n",
       " 5: -0.8693667980548512,\n",
       " 6: -1.3346290837553103}"
      ]
     },
     "execution_count": 5,
     "metadata": {},
     "output_type": "execute_result"
    }
   ],
   "source": [
    "data"
   ]
  },
  {
   "cell_type": "code",
   "execution_count": 6,
   "metadata": {},
   "outputs": [
    {
     "name": "stdout",
     "output_type": "stream",
     "text": [
      "{0: -0.4170126270674378, 1: 0.37905113590695655, 2: -0.3293174078062873, 3: 1.0037729783202525, 4: 1.4589926089912062, 5: -0.8693667980548512, 6: -1.3346290837553103}\n"
     ]
    }
   ],
   "source": [
    "# 如果打印上面的字典对象，其可读性一般，没有自带的格式化形式好\n",
    "print(data)"
   ]
  },
  {
   "cell_type": "code",
   "execution_count": 7,
   "metadata": {
    "collapsed": true
   },
   "outputs": [],
   "source": [
    "# Tab键自动完成\n",
    "# 在shell中输入表达式时，只要按下Tab键，当前命名空间中任何与已输入的字符串想匹配的变量就会被找出来\n",
    "an_apple = 27\n",
    "an_example = 42\n",
    "b = [1,2,3]"
   ]
  },
  {
   "cell_type": "code",
   "execution_count": 8,
   "metadata": {
    "collapsed": true
   },
   "outputs": [],
   "source": [
    "import datetime"
   ]
  },
  {
   "cell_type": "markdown",
   "metadata": {},
   "source": [
    "**对象内省（object introspection）**\n",
    "\n",
    "* 变量的前面或后面加上一个问号（？）就可以将有关该对象的一些通用信息显示出来\n",
    "* 如果该对象是一个函数或实例方法，则其docstring（如果有的话）也会被显示出来\n",
    "* 使用??还将显示出该函数的源代码\n",
    "* ?还可以用于搜索IPython命名空间，一些字符再配以通配符（*）即可显示出所有与该通配符表达式想匹配的名称。"
   ]
  },
  {
   "cell_type": "code",
   "execution_count": 9,
   "metadata": {
    "collapsed": true
   },
   "outputs": [],
   "source": [
    "b?"
   ]
  },
  {
   "cell_type": "code",
   "execution_count": 10,
   "metadata": {
    "collapsed": true
   },
   "outputs": [],
   "source": [
    "def add_numbers(a,b):\n",
    "    \"\"\"\n",
    "    Add two numbers together\n",
    "    Returns\n",
    "    -------\n",
    "    the_sum: type of arguments\n",
    "    \"\"\"\n",
    "    return a + b"
   ]
  },
  {
   "cell_type": "code",
   "execution_count": 11,
   "metadata": {
    "collapsed": true
   },
   "outputs": [],
   "source": [
    "add_numbers?"
   ]
  },
  {
   "cell_type": "code",
   "execution_count": 12,
   "metadata": {
    "collapsed": true
   },
   "outputs": [],
   "source": [
    "add_numbers??"
   ]
  },
  {
   "cell_type": "code",
   "execution_count": 13,
   "metadata": {
    "collapsed": true
   },
   "outputs": [],
   "source": [
    "np.*load*?"
   ]
  },
  {
   "cell_type": "markdown",
   "metadata": {},
   "source": [
    "**%run命令**\n",
    "* 所有文件都可以通过%run命令当作Python程序来运行,只需将文件名传给%run来运行即可。"
   ]
  },
  {
   "cell_type": "code",
   "execution_count": 14,
   "metadata": {
    "collapsed": true
   },
   "outputs": [],
   "source": [
    "%run ipython_script_test.ipynb"
   ]
  },
  {
   "cell_type": "code",
   "execution_count": 15,
   "metadata": {},
   "outputs": [
    {
     "data": {
      "text/plain": [
       "7.5"
      ]
     },
     "execution_count": 15,
     "metadata": {},
     "output_type": "execute_result"
    }
   ],
   "source": [
    "c"
   ]
  },
  {
   "cell_type": "code",
   "execution_count": 16,
   "metadata": {},
   "outputs": [
    {
     "data": {
      "text/plain": [
       "1.4666666666666666"
      ]
     },
     "execution_count": 16,
     "metadata": {},
     "output_type": "execute_result"
    }
   ],
   "source": [
    "result"
   ]
  },
  {
   "cell_type": "markdown",
   "metadata": {},
   "source": [
    "**中断正在执行的代码**\n",
    "\n",
    "只要按下“Ctrl-C”,就会引发一个KeyboardInterrupt，除特殊情况外，绝大部分Python程序都将立即停止执行。"
   ]
  },
  {
   "cell_type": "markdown",
   "metadata": {},
   "source": [
    "**执行剪切板中的代码**\n",
    "* %paste 和 %cpaste 命令"
   ]
  },
  {
   "cell_type": "markdown",
   "metadata": {},
   "source": [
    "**异常和跟踪**\n"
   ]
  },
  {
   "cell_type": "markdown",
   "metadata": {
    "collapsed": true
   },
   "source": [
    "**魔术命令**\n",
    "* 以百分号%为前缀的命令:例如%timeite检测任意Python语句的执行时间\n",
    "* 使用？可以查看命令行选项\n",
    "* 默认是可以不带百分号使用的，只要没有定义与其同名的变量即可。这个技术叫做 *automagic*，可以通过%automagic 打开或关闭"
   ]
  },
  {
   "cell_type": "code",
   "execution_count": 17,
   "metadata": {
    "collapsed": true
   },
   "outputs": [],
   "source": [
    "a = np.random.randn(100,100)"
   ]
  },
  {
   "cell_type": "code",
   "execution_count": 18,
   "metadata": {},
   "outputs": [
    {
     "name": "stdout",
     "output_type": "stream",
     "text": [
      "The slowest run took 366.45 times longer than the fastest. This could mean that an intermediate result is being cached.\n",
      "10000 loops, best of 3: 32.3 µs per loop\n"
     ]
    }
   ],
   "source": [
    "%timeit np.dot(a,a)"
   ]
  },
  {
   "cell_type": "code",
   "execution_count": 19,
   "metadata": {},
   "outputs": [
    {
     "data": {
      "text/plain": [
       "134217728"
      ]
     },
     "execution_count": 19,
     "metadata": {},
     "output_type": "execute_result"
    }
   ],
   "source": [
    "2 ** 27"
   ]
  },
  {
   "cell_type": "code",
   "execution_count": 20,
   "metadata": {},
   "outputs": [
    {
     "data": {
      "text/plain": [
       "134217728"
      ]
     },
     "execution_count": 20,
     "metadata": {},
     "output_type": "execute_result"
    }
   ],
   "source": [
    "_"
   ]
  },
  {
   "cell_type": "code",
   "execution_count": 21,
   "metadata": {
    "collapsed": true
   },
   "outputs": [],
   "source": [
    "foo = 'bar'"
   ]
  },
  {
   "cell_type": "code",
   "execution_count": 22,
   "metadata": {},
   "outputs": [
    {
     "data": {
      "text/plain": [
       "'bar'"
      ]
     },
     "execution_count": 22,
     "metadata": {},
     "output_type": "execute_result"
    }
   ],
   "source": [
    "foo"
   ]
  },
  {
   "cell_type": "code",
   "execution_count": 27,
   "metadata": {},
   "outputs": [
    {
     "data": {
      "text/plain": [
       "'_i27'"
      ]
     },
     "execution_count": 27,
     "metadata": {},
     "output_type": "execute_result"
    }
   ],
   "source": [
    "_i27"
   ]
  },
  {
   "cell_type": "code",
   "execution_count": 28,
   "metadata": {},
   "outputs": [],
   "source": [
    "# _28"
   ]
  },
  {
   "cell_type": "code",
   "execution_count": 30,
   "metadata": {},
   "outputs": [],
   "source": [
    "# exex _i27"
   ]
  },
  {
   "cell_type": "code",
   "execution_count": 31,
   "metadata": {},
   "outputs": [
    {
     "name": "stdout",
     "output_type": "stream",
     "text": [
      "_28\n",
      "a = 5\n",
      "a\n",
      "import numpy as np\n",
      "from numpy.random import randn\n",
      "data = {i : randn() for i in range(7)}\n",
      "data\n",
      "# 如果打印上面的字典对象，其可读性一般，没有自带的格式化形式好\n",
      "print(data)\n",
      "# Tab键自动完成\n",
      "# 在shell中输入表达式时，只要按下Tab键，当前命名空间中任何与已输入的字符串想匹配的变量就会被找出来\n",
      "an_apple = 27\n",
      "an_example = 42\n",
      "b = [1,2,3]\n",
      "import datetime\n",
      "b?\n",
      "def add_numbers(a,b):\n",
      "    \"\"\"\n",
      "    Add two numbers together\n",
      "    Returns\n",
      "    -------\n",
      "    the_sum: type of arguments\n",
      "    \"\"\"\n",
      "    return a + b\n",
      "add_numbers?\n",
      "add_numbers??\n",
      "np.*load*?\n",
      "%run ipython_script_test.ipynb\n",
      "c\n",
      "result\n",
      "a = np.random.randn(100,100)\n",
      "%timeit np.dot(a,a)\n",
      "2 ** 27\n",
      "_\n",
      "foo = 'bar'\n",
      "foo\n",
      "_i27\n",
      "# _i27\n",
      "_28\n",
      "exex _i27\n",
      "_i27\n",
      "# _28\n",
      "exex _i27\n",
      "# exex _i27\n",
      "# 用于打印全部或部分输入历史，可以选择是否带有行号\n",
      "%hist\n",
      "\n",
      "# %reset用于清空interactive命名空间\n",
      "\n",
      "#  %xdel用于从Ipython 系统中移除特定对象的一切引用\n"
     ]
    }
   ],
   "source": [
    "# 用于打印全部或部分输入历史，可以选择是否带有行号\n",
    "%hist\n",
    "\n",
    "# %reset用于清空interactive命名空间\n",
    "\n",
    "#  %xdel用于从Ipython 系统中移除特定对象的一切引用"
   ]
  },
  {
   "cell_type": "code",
   "execution_count": null,
   "metadata": {
    "collapsed": true
   },
   "outputs": [],
   "source": [
    "!python"
   ]
  },
  {
   "cell_type": "code",
   "execution_count": null,
   "metadata": {
    "collapsed": true
   },
   "outputs": [],
   "source": [
    "ip_info = !ipconfig etho | grep \"inet\""
   ]
  },
  {
   "cell_type": "code",
   "execution_count": null,
   "metadata": {
    "collapsed": true
   },
   "outputs": [],
   "source": [
    "ip_info[0].strip()"
   ]
  },
  {
   "cell_type": "code",
   "execution_count": null,
   "metadata": {
    "collapsed": true
   },
   "outputs": [],
   "source": []
  },
  {
   "cell_type": "code",
   "execution_count": null,
   "metadata": {
    "collapsed": true
   },
   "outputs": [],
   "source": []
  }
 ],
 "metadata": {
  "kernelspec": {
   "display_name": "Python 3",
   "language": "python",
   "name": "python3"
  },
  "language_info": {
   "codemirror_mode": {
    "name": "ipython",
    "version": 3
   },
   "file_extension": ".py",
   "mimetype": "text/x-python",
   "name": "python",
   "nbconvert_exporter": "python",
   "pygments_lexer": "ipython3",
   "version": "3.6.1"
  }
 },
 "nbformat": 4,
 "nbformat_minor": 2
}
